{
 "cells": [
  {
   "attachments": {},
   "cell_type": "markdown",
   "id": "4658d71a",
   "metadata": {},
   "source": [
    "# Absurdly intelligent LLM-agents powered by LangChain & OpenAI: Tools, guardrails & memory"
   ]
  },
  {
   "attachments": {},
   "cell_type": "markdown",
   "id": "b0703735",
   "metadata": {},
   "source": [
    "In this Notebook we run you through the LangChain API and test out the latest OpenAI models. \n",
    "\n",
    "For this example, you need an OpenAI API key and a SerpAPI key to continue, which you can get here:\n",
    "\n",
    "* https://serpapi.com/\n",
    "* https://platform.openai.com\n"
   ]
  },
  {
   "attachments": {},
   "cell_type": "markdown",
   "id": "2ea23718",
   "metadata": {},
   "source": [
    "Note that the usage of these APIs is completely optional, but preferable for impressive results.\n",
    "If you want to use a free API or use your own locally-running model, it's really easy to do (see langchain docs!)."
   ]
  },
  {
   "attachments": {},
   "cell_type": "markdown",
   "id": "e35e98d1",
   "metadata": {},
   "source": [
    "# Setup"
   ]
  },
  {
   "attachments": {},
   "cell_type": "markdown",
   "id": "b794cc4a",
   "metadata": {},
   "source": [
    "Make sure you have your `secrets.env` with an OpenAPI and SerpAPI key added, like so:\n",
    "```\n",
    "OPENAI_API_KEY=openapikey\n",
    "SERPAPI_API_KEY=serpapikey\n",
    "```"
   ]
  },
  {
   "attachments": {},
   "cell_type": "markdown",
   "id": "993b45f7",
   "metadata": {},
   "source": [
    "Then load it in with the following snippet:"
   ]
  },
  {
   "cell_type": "code",
   "execution_count": 1,
   "id": "5baf904e",
   "metadata": {},
   "outputs": [
    {
     "data": {
      "text/plain": [
       "True"
      ]
     },
     "execution_count": 1,
     "metadata": {},
     "output_type": "execute_result"
    }
   ],
   "source": [
    "from dotenv import load_dotenv\n",
    "load_dotenv(\"secrets.env\")"
   ]
  },
  {
   "cell_type": "code",
   "execution_count": 2,
   "id": "f65308ab",
   "metadata": {},
   "outputs": [],
   "source": [
    "from langchain.agents import Tool\n",
    "from langchain.memory import ConversationBufferMemory\n",
    "from langchain.chat_models import ChatOpenAI\n",
    "from langchain.utilities import SerpAPIWrapper, WikipediaAPIWrapper\n",
    "from langchain.agents import initialize_agent\n",
    "from langchain import LLMChain, OpenAI, PromptTemplate\n",
    "from langchain.guards import CustomGuard, RestrictionGuard"
   ]
  },
  {
   "attachments": {},
   "cell_type": "markdown",
   "id": "35d2af20",
   "metadata": {},
   "source": [
    "# Tools"
   ]
  },
  {
   "attachments": {},
   "cell_type": "markdown",
   "id": "528a3e5d",
   "metadata": {},
   "source": [
    "We initialize a list of tools, in this case just a search engine. The description is important for the agent to know when to use the tool in the right scenario.\n",
    "\n",
    "Tools can be pretty much anything, but search is probably the most powerful example."
   ]
  },
  {
   "cell_type": "code",
   "execution_count": 3,
   "id": "5fb14d6d",
   "metadata": {},
   "outputs": [],
   "source": [
    "search = SerpAPIWrapper()\n",
    "tools = [\n",
    "    Tool(\n",
    "        name = \"Current Search\",\n",
    "        func=search.run,\n",
    "        description=\"useful for when you need to answer questions about current events or the current state of the world. the input to this should be a single search term.\"\n",
    "    ),\n",
    "]"
   ]
  },
  {
   "attachments": {},
   "cell_type": "markdown",
   "id": "634c0663",
   "metadata": {},
   "source": [
    "In case you don't have the SerpAPI key or don't want to bother, here's a free alternative using Wikipedia"
   ]
  },
  {
   "cell_type": "code",
   "execution_count": null,
   "id": "74164a63",
   "metadata": {},
   "outputs": [],
   "source": [
    "wiki = WikipediaAPIWrapper()\n",
    "tools = [\n",
    "    Tool(\n",
    "        name = \"Current Wikipedia\",\n",
    "        func=wiki.run,\n",
    "        description=\"wikipedia search is useful for when you need to provide factual answers. the input to this should be a single search term.\"\n",
    "    ),\n",
    "]"
   ]
  },
  {
   "attachments": {},
   "cell_type": "markdown",
   "id": "626d470d",
   "metadata": {},
   "source": [
    "The conversation buffer is necessary to keep a memory of messages in the ChatGPT agent and truly replicate a chat-like interface."
   ]
  },
  {
   "cell_type": "code",
   "execution_count": 5,
   "id": "dddc34c4",
   "metadata": {},
   "outputs": [],
   "source": [
    "memory = ConversationBufferMemory(memory_key=\"chat_history\", return_messages=True)"
   ]
  },
  {
   "attachments": {},
   "cell_type": "markdown",
   "id": "9c5c0add",
   "metadata": {},
   "source": [
    "This is where we set up ChatGPT3.5-turbo, the standard model in the LangChain library being called when using the conversational chat agent."
   ]
  },
  {
   "cell_type": "code",
   "execution_count": 6,
   "id": "cafe9bc1",
   "metadata": {},
   "outputs": [],
   "source": [
    "llm=ChatOpenAI(temperature=0)\n",
    "agent_chain = initialize_agent(tools, llm, agent=\"chat-conversational-react-description\", verbose=True, memory=memory)"
   ]
  },
  {
   "attachments": {},
   "cell_type": "markdown",
   "id": "90d23619",
   "metadata": {},
   "source": [
    "Here we initialize a guard langchain that validates the output of our Agent."
   ]
  },
  {
   "cell_type": "code",
   "execution_count": 8,
   "id": "877bc889",
   "metadata": {},
   "outputs": [],
   "source": [
    "from langchain.guards.restriction_prompt import RESTRICTION_PROMPT\n",
    "safe_guard_llm = LLMChain(\n",
    "    llm=OpenAI(temperature=0.9),\n",
    "    prompt=RESTRICTION_PROMPT,\n",
    ")"
   ]
  },
  {
   "attachments": {},
   "cell_type": "markdown",
   "id": "ab6febdf",
   "metadata": {},
   "source": [
    "An alternative, interesting option is to initialize a guard langchain with an LLM such as Ada that is much simpler or cheaper, to reduce the cost of validation"
   ]
  },
  {
   "cell_type": "code",
   "execution_count": null,
   "id": "21db70df",
   "metadata": {},
   "outputs": [],
   "source": [
    "# from langchain.guards.restriction_prompt import RESTRICTION_PROMPT\n",
    "# safe_guard_llm = LLMChain(\n",
    "#     llm=OpenAI(temperature=0.9, model_name=\"text-ada-001\"),\n",
    "#     prompt=RESTRICTION_PROMPT,\n",
    "# )"
   ]
  },
  {
   "attachments": {},
   "cell_type": "markdown",
   "id": "4e9c48e4",
   "metadata": {},
   "source": [
    "We want the advice that our ChatGPT-powered agent provides to follow a couple of guidelines, but we will give these guidelines to our guardchain to vet the code (incl. [Zen of Python](https://en.wikipedia.org/wiki/Zen_of_Python))"
   ]
  },
  {
   "cell_type": "code",
   "execution_count": 10,
   "id": "d3b41f45",
   "metadata": {},
   "outputs": [],
   "source": [
    "python_advice_restrictions = [\n",
    "    \"must be code written primarily in Python\",\n",
    "    \"must adhere to the principles of the Zen of Python\",\n",
    "    \"the text must contain at least one code snippet\"\n",
    "]"
   ]
  },
  {
   "attachments": {},
   "cell_type": "markdown",
   "id": "063a4346",
   "metadata": {},
   "source": [
    "We give our ChatGPT-agent a role \"tech lead\" with some instructions and context."
   ]
  },
  {
   "cell_type": "code",
   "execution_count": 11,
   "id": "28043fb5",
   "metadata": {},
   "outputs": [],
   "source": [
    "seed_prompt = \"\"\"\n",
    "I want you to act as if you are a tech lead, with expertise in full-stack Python development.\n",
    "Sometimes, if I preface my message with 'python code expected', you will need to write a code snippet, otherwise your message will be rejected.\n",
    "\"\"\""
   ]
  },
  {
   "attachments": {},
   "cell_type": "markdown",
   "id": "4bfea97d",
   "metadata": {},
   "source": [
    "If we want input that can be free, we use `free_speech`"
   ]
  },
  {
   "cell_type": "code",
   "execution_count": 12,
   "id": "a5e4444d",
   "metadata": {},
   "outputs": [],
   "source": [
    "def free_speech(input=str):\n",
    "    return agent_chain.run(input=input)"
   ]
  },
  {
   "attachments": {},
   "cell_type": "markdown",
   "id": "60c17eff",
   "metadata": {},
   "source": [
    "If we want restricted/validated input, we use `python_advice`. "
   ]
  },
  {
   "cell_type": "code",
   "execution_count": 13,
   "id": "389fd20b",
   "metadata": {},
   "outputs": [],
   "source": [
    "@RestrictionGuard(restrictions=python_advice_restrictions, guard_chain=safe_guard_llm, retries=2)\n",
    "def python_advice(input=str):\n",
    "    return agent_chain.run(input='python code expected - ' + input)"
   ]
  },
  {
   "attachments": {},
   "cell_type": "markdown",
   "id": "31536d40",
   "metadata": {},
   "source": [
    "# The test"
   ]
  },
  {
   "attachments": {},
   "cell_type": "markdown",
   "id": "aef9128a",
   "metadata": {},
   "source": [
    "Let's initialize our ChatGPT-agent."
   ]
  },
  {
   "cell_type": "code",
   "execution_count": 14,
   "id": "994fa995",
   "metadata": {},
   "outputs": [
    {
     "name": "stdout",
     "output_type": "stream",
     "text": [
      "\n",
      "\n",
      "\u001b[1m> Entering new AgentExecutor chain...\u001b[0m\n",
      "\u001b[32;1m\u001b[1;3mSure, I can help you with that! What do you need assistance with?\u001b[0m\n",
      "\n",
      "\u001b[1m> Finished chain.\u001b[0m\n"
     ]
    },
    {
     "data": {
      "text/plain": [
       "'Sure, I can help you with that! What do you need assistance with?'"
      ]
     },
     "execution_count": 14,
     "metadata": {},
     "output_type": "execute_result"
    }
   ],
   "source": [
    "free_speech(seed_prompt)"
   ]
  },
  {
   "attachments": {},
   "cell_type": "markdown",
   "id": "c08b6afe",
   "metadata": {},
   "source": [
    "Great. Now let's write code. Let's start off simple?"
   ]
  },
  {
   "cell_type": "code",
   "execution_count": 15,
   "id": "0084efd6",
   "metadata": {},
   "outputs": [
    {
     "name": "stdout",
     "output_type": "stream",
     "text": [
      "\n",
      "\n",
      "\u001b[1m> Entering new AgentExecutor chain...\u001b[0m\n",
      "\u001b[32;1m\u001b[1;3mSure, here's a quick recursive Fibonacci algorithm in Python:\n",
      "\n",
      "```\n",
      "def fibonacci(n):\n",
      "    if n <= 1:\n",
      "        return n\n",
      "    else:\n",
      "        return fibonacci(n-1) + fibonacci(n-2)\n",
      "```\n",
      "\n",
      "This function takes an integer `n` as input and returns the `n`th Fibonacci number. The function uses recursion to calculate the Fibonacci number, which is defined as the sum of the two preceding numbers in the sequence. The base case for the recursion is when `n` is 0 or 1, in which case the function returns `n`. Otherwise, the function recursively calls itself with `n-1` and `n-2` as arguments and returns the sum of the two results.\u001b[0m\n",
      "\n",
      "\u001b[1m> Finished chain.\u001b[0m\n"
     ]
    },
    {
     "data": {
      "text/plain": [
       "\"Sure, here's a quick recursive Fibonacci algorithm in Python:\\n\\n```\\ndef fibonacci(n):\\n    if n <= 1:\\n        return n\\n    else:\\n        return fibonacci(n-1) + fibonacci(n-2)\\n```\\n\\nThis function takes an integer `n` as input and returns the `n`th Fibonacci number. The function uses recursion to calculate the Fibonacci number, which is defined as the sum of the two preceding numbers in the sequence. The base case for the recursion is when `n` is 0 or 1, in which case the function returns `n`. Otherwise, the function recursively calls itself with `n-1` and `n-2` as arguments and returns the sum of the two results.\""
      ]
     },
     "execution_count": 15,
     "metadata": {},
     "output_type": "execute_result"
    }
   ],
   "source": [
    "python_advice(\"Write a quick recursive fibonacci algorithm. Don't use tools.\")"
   ]
  },
  {
   "attachments": {},
   "cell_type": "markdown",
   "id": "89826b02",
   "metadata": {},
   "source": [
    "That worked! Let's see if it remembers its original role..."
   ]
  },
  {
   "cell_type": "code",
   "execution_count": 17,
   "id": "6a674a40",
   "metadata": {},
   "outputs": [
    {
     "name": "stdout",
     "output_type": "stream",
     "text": [
      "\n",
      "\n",
      "\u001b[1m> Entering new AgentExecutor chain...\u001b[0m\n",
      "\u001b[32;1m\u001b[1;3mI apologize for the confusion earlier. Your initial prompt was:\n",
      "\n",
      "\"I want you to act as if you are a tech lead, with expertise in full-stack Python development. Sometimes, if I preface my message with 'python code expected', you will need to write a code snippet, otherwise your message will be rejected.\"\u001b[0m\n",
      "\n",
      "\u001b[1m> Finished chain.\u001b[0m\n"
     ]
    },
    {
     "data": {
      "text/plain": [
       "'I apologize for the confusion earlier. Your initial prompt was:\\n\\n\"I want you to act as if you are a tech lead, with expertise in full-stack Python development. Sometimes, if I preface my message with \\'python code expected\\', you will need to write a code snippet, otherwise your message will be rejected.\"'"
      ]
     },
     "execution_count": 17,
     "metadata": {},
     "output_type": "execute_result"
    }
   ],
   "source": [
    "free_speech(\"Tell me what the prompt was I initially gave you.\")"
   ]
  },
  {
   "attachments": {},
   "cell_type": "markdown",
   "id": "86c2b495",
   "metadata": {},
   "source": [
    "Now what if we ask it to do something it shouldn't in the python_advice function?"
   ]
  },
  {
   "cell_type": "code",
   "execution_count": 18,
   "id": "d5ea285d",
   "metadata": {},
   "outputs": [
    {
     "name": "stdout",
     "output_type": "stream",
     "text": [
      "\n",
      "\n",
      "\u001b[1m> Entering new AgentExecutor chain...\u001b[0m\n",
      "\u001b[32;1m\u001b[1;3mI'm sorry, but as an AI language model, I don't have a physical body to perform an interpretative dance with potatoes. However, I can provide you with information on how to perform an interpretative dance with potatoes if you're interested.\u001b[0m\n",
      "\n",
      "\u001b[1m> Finished chain.\u001b[0m\n",
      "\n",
      "\n",
      "\u001b[1m> Entering new AgentExecutor chain...\u001b[0m\n",
      "\u001b[32;1m\u001b[1;3m{\n",
      "  \"action\": \"Current Search\",\n",
      "  \"action_input\": \"How to perform an interpretative dance with potatoes\"\n",
      "}\u001b[0m\n",
      "Observation: \u001b[36;1m\u001b[1;3mSmac McCreanor performed interpretive dances of the objects being crushed in videos from hydraulic press channels.\u001b[0m\n",
      "Thought:\u001b[32;1m\u001b[1;3mI'm sorry, but I'm not sure how to respond to your previous message. The observation you provided doesn't seem to be related to interpretative dance with potatoes. Is there anything else I can help you with?\u001b[0m\n",
      "\n",
      "\u001b[1m> Finished chain.\u001b[0m\n",
      "\n",
      "\n",
      "\u001b[1m> Entering new AgentExecutor chain...\u001b[0m\n",
      "\u001b[32;1m\u001b[1;3m{\n",
      "  \"action\": \"Current Search\",\n",
      "  \"action_input\": \"How to perform an interpretative dance with potatoes\"\n",
      "}\u001b[0m\n",
      "Observation: \u001b[36;1m\u001b[1;3mSmac McCreanor performed interpretive dances of the objects being crushed in videos from hydraulic press channels.\u001b[0m\n",
      "Thought:\u001b[32;1m\u001b[1;3mHere's what I found on how to perform an interpretative dance with potatoes:\n",
      "\n",
      "1. Choose a song or piece of music that inspires you and that you feel would be appropriate for an interpretative dance with potatoes.\n",
      "\n",
      "2. Select a few potatoes of different sizes and shapes. You can use them as props or incorporate them into your dance.\n",
      "\n",
      "3. Begin by holding a potato in your hand and moving your body in a way that expresses the emotion or feeling of the music. You can use the potato to accentuate your movements or as a focal point for your dance.\n",
      "\n",
      "4. As the music progresses, incorporate more potatoes into your dance. You can toss them, roll them, or use them to create different shapes and movements.\n",
      "\n",
      "5. Experiment with different movements and techniques to create a unique and expressive dance. Don't be afraid to let your creativity and imagination run wild!\n",
      "\n",
      "I hope this helps! Let me know if you have any other questions.\u001b[0m\n",
      "\n",
      "\u001b[1m> Finished chain.\u001b[0m\n"
     ]
    },
    {
     "ename": "Exception",
     "evalue": "Restriction violated. Attempted answer: Here's what I found on how to perform an interpretative dance with potatoes:\n\n1. Choose a song or piece of music that inspires you and that you feel would be appropriate for an interpretative dance with potatoes.\n\n2. Select a few potatoes of different sizes and shapes. You can use them as props or incorporate them into your dance.\n\n3. Begin by holding a potato in your hand and moving your body in a way that expresses the emotion or feeling of the music. You can use the potato to accentuate your movements or as a focal point for your dance.\n\n4. As the music progresses, incorporate more potatoes into your dance. You can toss them, roll them, or use them to create different shapes and movements.\n\n5. Experiment with different movements and techniques to create a unique and expressive dance. Don't be afraid to let your creativity and imagination run wild!\n\nI hope this helps! Let me know if you have any other questions.. Reasoning:  output does not include code written primarily in Python, does not adhere to the principles of the Zen of Python, and does not contain a code snippet (¥).",
     "output_type": "error",
     "traceback": [
      "\u001b[0;31m---------------------------------------------------------------------------\u001b[0m",
      "\u001b[0;31mException\u001b[0m                                 Traceback (most recent call last)",
      "File \u001b[0;32m~/Documents/gleam-brain/langchain/langchain/guards/base.py:66\u001b[0m, in \u001b[0;36mBaseGuard.__call__.<locals>.wrapper\u001b[0;34m(*args, **kwargs)\u001b[0m\n\u001b[1;32m     65\u001b[0m \u001b[39mif\u001b[39;00m guard_result:\n\u001b[0;32m---> 66\u001b[0m     \u001b[39mreturn\u001b[39;00m \u001b[39mself\u001b[39;49m\u001b[39m.\u001b[39;49mhandle_violation(violation_message)\n\u001b[1;32m     67\u001b[0m \u001b[39melse\u001b[39;00m:\n",
      "File \u001b[0;32m~/Documents/gleam-brain/langchain/langchain/guards/base.py:53\u001b[0m, in \u001b[0;36mBaseGuard.handle_violation\u001b[0;34m(self, message, *args, **kwargs)\u001b[0m\n\u001b[1;32m     45\u001b[0m \u001b[39m\u001b[39m\u001b[39m\"\"\"Handle violation of guard.\u001b[39;00m\n\u001b[1;32m     46\u001b[0m \n\u001b[1;32m     47\u001b[0m \u001b[39mArgs:\u001b[39;00m\n\u001b[0;32m   (...)\u001b[0m\n\u001b[1;32m     51\u001b[0m \u001b[39m    Exception: the message passed to the function.\u001b[39;00m\n\u001b[1;32m     52\u001b[0m \u001b[39m\"\"\"\u001b[39;00m\n\u001b[0;32m---> 53\u001b[0m \u001b[39mraise\u001b[39;00m \u001b[39mException\u001b[39;00m(message)\n",
      "\u001b[0;31mException\u001b[0m: Restriction violated. Attempted answer: I'm sorry, but as an AI language model, I don't have a physical body to perform an interpretative dance with potatoes. However, I can provide you with information on how to perform an interpretative dance with potatoes if you're interested.. Reasoning:  output does not primarily written with Python code, does not contain code snippet (¥).",
      "\nDuring handling of the above exception, another exception occurred:\n",
      "\u001b[0;31mException\u001b[0m                                 Traceback (most recent call last)",
      "File \u001b[0;32m~/Documents/gleam-brain/langchain/langchain/guards/base.py:66\u001b[0m, in \u001b[0;36mBaseGuard.__call__.<locals>.wrapper\u001b[0;34m(*args, **kwargs)\u001b[0m\n\u001b[1;32m     65\u001b[0m \u001b[39mif\u001b[39;00m guard_result:\n\u001b[0;32m---> 66\u001b[0m     \u001b[39mreturn\u001b[39;00m \u001b[39mself\u001b[39;49m\u001b[39m.\u001b[39;49mhandle_violation(violation_message)\n\u001b[1;32m     67\u001b[0m \u001b[39melse\u001b[39;00m:\n",
      "File \u001b[0;32m~/Documents/gleam-brain/langchain/langchain/guards/base.py:53\u001b[0m, in \u001b[0;36mBaseGuard.handle_violation\u001b[0;34m(self, message, *args, **kwargs)\u001b[0m\n\u001b[1;32m     45\u001b[0m \u001b[39m\u001b[39m\u001b[39m\"\"\"Handle violation of guard.\u001b[39;00m\n\u001b[1;32m     46\u001b[0m \n\u001b[1;32m     47\u001b[0m \u001b[39mArgs:\u001b[39;00m\n\u001b[0;32m   (...)\u001b[0m\n\u001b[1;32m     51\u001b[0m \u001b[39m    Exception: the message passed to the function.\u001b[39;00m\n\u001b[1;32m     52\u001b[0m \u001b[39m\"\"\"\u001b[39;00m\n\u001b[0;32m---> 53\u001b[0m \u001b[39mraise\u001b[39;00m \u001b[39mException\u001b[39;00m(message)\n",
      "\u001b[0;31mException\u001b[0m: Restriction violated. Attempted answer: I'm sorry, but I'm not sure how to respond to your previous message. The observation you provided doesn't seem to be related to interpretative dance with potatoes. Is there anything else I can help you with?. Reasoning:  output does not contain primarily Python code or code snippet (¥).",
      "\nDuring handling of the above exception, another exception occurred:\n",
      "\u001b[0;31mException\u001b[0m                                 Traceback (most recent call last)",
      "Cell \u001b[0;32mIn[18], line 1\u001b[0m\n\u001b[0;32m----> 1\u001b[0m python_advice(\u001b[39m\"\u001b[39;49m\u001b[39mNow do something completely different: Interpretative dance with potatoes.\u001b[39;49m\u001b[39m\"\u001b[39;49m)\n",
      "File \u001b[0;32m~/Documents/gleam-brain/langchain/langchain/guards/base.py:74\u001b[0m, in \u001b[0;36mBaseGuard.__call__.<locals>.wrapper\u001b[0;34m(*args, **kwargs)\u001b[0m\n\u001b[1;32m     71\u001b[0m \u001b[39m# Check retries to avoid infinite recursion if exception is something\u001b[39;00m\n\u001b[1;32m     72\u001b[0m \u001b[39m# other than a violation of the guard\u001b[39;00m\n\u001b[1;32m     73\u001b[0m \u001b[39mif\u001b[39;00m \u001b[39mself\u001b[39m\u001b[39m.\u001b[39mretries \u001b[39m>\u001b[39m\u001b[39m=\u001b[39m \u001b[39m0\u001b[39m:\n\u001b[0;32m---> 74\u001b[0m     \u001b[39mreturn\u001b[39;00m wrapper(\u001b[39m*\u001b[39;49margs, \u001b[39m*\u001b[39;49m\u001b[39m*\u001b[39;49mkwargs)\n\u001b[1;32m     75\u001b[0m \u001b[39melse\u001b[39;00m:\n\u001b[1;32m     76\u001b[0m     \u001b[39mraise\u001b[39;00m e\n",
      "File \u001b[0;32m~/Documents/gleam-brain/langchain/langchain/guards/base.py:74\u001b[0m, in \u001b[0;36mBaseGuard.__call__.<locals>.wrapper\u001b[0;34m(*args, **kwargs)\u001b[0m\n\u001b[1;32m     71\u001b[0m \u001b[39m# Check retries to avoid infinite recursion if exception is something\u001b[39;00m\n\u001b[1;32m     72\u001b[0m \u001b[39m# other than a violation of the guard\u001b[39;00m\n\u001b[1;32m     73\u001b[0m \u001b[39mif\u001b[39;00m \u001b[39mself\u001b[39m\u001b[39m.\u001b[39mretries \u001b[39m>\u001b[39m\u001b[39m=\u001b[39m \u001b[39m0\u001b[39m:\n\u001b[0;32m---> 74\u001b[0m     \u001b[39mreturn\u001b[39;00m wrapper(\u001b[39m*\u001b[39;49margs, \u001b[39m*\u001b[39;49m\u001b[39m*\u001b[39;49mkwargs)\n\u001b[1;32m     75\u001b[0m \u001b[39melse\u001b[39;00m:\n\u001b[1;32m     76\u001b[0m     \u001b[39mraise\u001b[39;00m e\n",
      "File \u001b[0;32m~/Documents/gleam-brain/langchain/langchain/guards/base.py:76\u001b[0m, in \u001b[0;36mBaseGuard.__call__.<locals>.wrapper\u001b[0;34m(*args, **kwargs)\u001b[0m\n\u001b[1;32m     74\u001b[0m     \u001b[39mreturn\u001b[39;00m wrapper(\u001b[39m*\u001b[39margs, \u001b[39m*\u001b[39m\u001b[39m*\u001b[39mkwargs)\n\u001b[1;32m     75\u001b[0m \u001b[39melse\u001b[39;00m:\n\u001b[0;32m---> 76\u001b[0m     \u001b[39mraise\u001b[39;00m e\n",
      "File \u001b[0;32m~/Documents/gleam-brain/langchain/langchain/guards/base.py:66\u001b[0m, in \u001b[0;36mBaseGuard.__call__.<locals>.wrapper\u001b[0;34m(*args, **kwargs)\u001b[0m\n\u001b[1;32m     64\u001b[0m guard_result, violation_message \u001b[39m=\u001b[39m \u001b[39mself\u001b[39m\u001b[39m.\u001b[39mresolve_guard(llm_response)\n\u001b[1;32m     65\u001b[0m \u001b[39mif\u001b[39;00m guard_result:\n\u001b[0;32m---> 66\u001b[0m     \u001b[39mreturn\u001b[39;00m \u001b[39mself\u001b[39;49m\u001b[39m.\u001b[39;49mhandle_violation(violation_message)\n\u001b[1;32m     67\u001b[0m \u001b[39melse\u001b[39;00m:\n\u001b[1;32m     68\u001b[0m     \u001b[39mreturn\u001b[39;00m llm_response\n",
      "File \u001b[0;32m~/Documents/gleam-brain/langchain/langchain/guards/base.py:53\u001b[0m, in \u001b[0;36mBaseGuard.handle_violation\u001b[0;34m(self, message, *args, **kwargs)\u001b[0m\n\u001b[1;32m     44\u001b[0m \u001b[39mdef\u001b[39;00m \u001b[39mhandle_violation\u001b[39m(\u001b[39mself\u001b[39m, message: \u001b[39mstr\u001b[39m, \u001b[39m*\u001b[39margs: Any, \u001b[39m*\u001b[39m\u001b[39m*\u001b[39mkwargs: Any) \u001b[39m-\u001b[39m\u001b[39m>\u001b[39m \u001b[39mException\u001b[39;00m:\n\u001b[1;32m     45\u001b[0m \u001b[39m    \u001b[39m\u001b[39m\"\"\"Handle violation of guard.\u001b[39;00m\n\u001b[1;32m     46\u001b[0m \n\u001b[1;32m     47\u001b[0m \u001b[39m    Args:\u001b[39;00m\n\u001b[0;32m   (...)\u001b[0m\n\u001b[1;32m     51\u001b[0m \u001b[39m        Exception: the message passed to the function.\u001b[39;00m\n\u001b[1;32m     52\u001b[0m \u001b[39m    \"\"\"\u001b[39;00m\n\u001b[0;32m---> 53\u001b[0m     \u001b[39mraise\u001b[39;00m \u001b[39mException\u001b[39;00m(message)\n",
      "\u001b[0;31mException\u001b[0m: Restriction violated. Attempted answer: Here's what I found on how to perform an interpretative dance with potatoes:\n\n1. Choose a song or piece of music that inspires you and that you feel would be appropriate for an interpretative dance with potatoes.\n\n2. Select a few potatoes of different sizes and shapes. You can use them as props or incorporate them into your dance.\n\n3. Begin by holding a potato in your hand and moving your body in a way that expresses the emotion or feeling of the music. You can use the potato to accentuate your movements or as a focal point for your dance.\n\n4. As the music progresses, incorporate more potatoes into your dance. You can toss them, roll them, or use them to create different shapes and movements.\n\n5. Experiment with different movements and techniques to create a unique and expressive dance. Don't be afraid to let your creativity and imagination run wild!\n\nI hope this helps! Let me know if you have any other questions.. Reasoning:  output does not include code written primarily in Python, does not adhere to the principles of the Zen of Python, and does not contain a code snippet (¥)."
     ]
    }
   ],
   "source": [
    "python_advice(\"Now do something completely different: Interpretative dance with potatoes.\")"
   ]
  },
  {
   "attachments": {},
   "cell_type": "markdown",
   "id": "9e260444",
   "metadata": {},
   "source": [
    "Our model correctly realized that it cannot actually do that action, tries to search, but fails to adhere to the python_advice restrictions, thus throwing an exception."
   ]
  },
  {
   "attachments": {},
   "cell_type": "markdown",
   "id": "89ab2c2f",
   "metadata": {},
   "source": [
    "# Implications"
   ]
  },
  {
   "attachments": {},
   "cell_type": "markdown",
   "id": "0452bca6",
   "metadata": {},
   "source": [
    "ChatGPT initially generated massive amounts of hype, for very good reason.\n",
    "The anti-hype bandwagon then popped up, also for good reason, for example:\n",
    "* ChatGPT hallucinates: makes up facts and just blurbs random stuff that sounds about right\n",
    "* ChatGPT's memory is too limited: it can't really keep up with a large amount of text or conversation\n",
    "* ChatGPT can't do math: math just progressively gets worse as you add more operations\n",
    "* ChatGPT ...\n",
    "\n",
    "With the release of GPT4.0, some of these are less problematic, reducing hallucinations, increasing the memory to ~52 pages, and better at math. I expect that GPT4.0 with the Agent Framework using Tools and more advanced forms of SharedMemory will be powerful enough to collaborate and independently build products, with decision-making and directions by humans. \n",
    "\n",
    "Even with GPT3.5-turbo, the combination with LangChain brings industrial and creative usecases that much closer.\n",
    "\n",
    "With LangChain:\n",
    "* it becomes trivial to let Agents overcome hallucinations with Tools and give it advanced fact finding and grounding capabilities\n",
    "* in cases of failure, a Guardchain can validate the output and make sure it is in line with a list of Restrictions, for example for a concrete task\n",
    "* with memory, any LLM can become chat-like and conversational\n",
    "\n",
    "We're just scratching the surface of how absurdly powerful LLMs are, especially combined with frameworks such as LangChain.\n"
   ]
  }
 ],
 "metadata": {
  "kernelspec": {
   "display_name": "gleam",
   "language": "python",
   "name": "python3"
  },
  "language_info": {
   "codemirror_mode": {
    "name": "ipython",
    "version": 3
   },
   "file_extension": ".py",
   "mimetype": "text/x-python",
   "name": "python",
   "nbconvert_exporter": "python",
   "pygments_lexer": "ipython3",
   "version": "3.9.6"
  },
  "vscode": {
   "interpreter": {
    "hash": "37e84c0af1e536b98692bb785e92a342dac56ca3130dbd93b70dc906001bf680"
   }
  }
 },
 "nbformat": 4,
 "nbformat_minor": 5
}
